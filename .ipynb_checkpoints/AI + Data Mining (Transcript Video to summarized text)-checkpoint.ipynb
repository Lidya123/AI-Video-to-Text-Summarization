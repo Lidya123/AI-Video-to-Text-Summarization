{
 "cells": [
  {
   "cell_type": "code",
   "execution_count": 35,
   "metadata": {},
   "outputs": [
    {
     "name": "stdout",
     "output_type": "stream",
     "text": [
      "Requirement already satisfied: ibm_watson in c:\\users\\asus\\anaconda3\\lib\\site-packages (5.3.0)\n",
      "Requirement already satisfied: ibm-cloud-sdk-core==3.*,>=3.3.6 in c:\\users\\asus\\anaconda3\\lib\\site-packages (from ibm_watson) (3.12.0)\n",
      "Requirement already satisfied: requests<3.0,>=2.0 in c:\\users\\asus\\anaconda3\\lib\\site-packages (from ibm_watson) (2.24.0)\n",
      "Requirement already satisfied: websocket-client==1.1.0 in c:\\users\\asus\\anaconda3\\lib\\site-packages (from ibm_watson) (1.1.0)\n",
      "Requirement already satisfied: python-dateutil>=2.5.3 in c:\\users\\asus\\anaconda3\\lib\\site-packages (from ibm_watson) (2.8.1)\n",
      "Requirement already satisfied: PyJWT<3.0.0,>=2.0.1 in c:\\users\\asus\\anaconda3\\lib\\site-packages (from ibm-cloud-sdk-core==3.*,>=3.3.6->ibm_watson) (2.3.0)\n",
      "Requirement already satisfied: chardet<4,>=3.0.2 in c:\\users\\asus\\anaconda3\\lib\\site-packages (from requests<3.0,>=2.0->ibm_watson) (3.0.4)\n",
      "Requirement already satisfied: urllib3!=1.25.0,!=1.25.1,<1.26,>=1.21.1 in c:\\users\\asus\\anaconda3\\lib\\site-packages (from requests<3.0,>=2.0->ibm_watson) (1.25.11)\n",
      "Requirement already satisfied: idna<3,>=2.5 in c:\\users\\asus\\anaconda3\\lib\\site-packages (from requests<3.0,>=2.0->ibm_watson) (2.10)\n",
      "Requirement already satisfied: certifi>=2017.4.17 in c:\\users\\asus\\anaconda3\\lib\\site-packages (from requests<3.0,>=2.0->ibm_watson) (2020.6.20)\n",
      "Requirement already satisfied: six>=1.5 in c:\\users\\asus\\anaconda3\\lib\\site-packages (from python-dateutil>=2.5.3->ibm_watson) (1.15.0)\n"
     ]
    }
   ],
   "source": [
    "#installing libraries\n",
    "!pip install ibm_watson #AI --> Q&A,PREDICTIONS,AUTOMATE COMPLEX PROCESSES\n",
    "#!pip install ffmpeg"
   ]
  },
  {
   "cell_type": "code",
   "execution_count": 1,
   "metadata": {},
   "outputs": [],
   "source": [
    "#importing dependencies\n",
    "import subprocess \n",
    "from ibm_watson import SpeechToTextV1\n",
    "from ibm_watson.websocket import RecognizeCallback, AudioSource\n",
    "from ibm_cloud_sdk_core.authenticators import IAMAuthenticator #authenticate speech to text service "
   ]
  },
  {
   "cell_type": "code",
   "execution_count": 2,
   "metadata": {},
   "outputs": [
    {
     "data": {
      "text/plain": [
       "1"
      ]
     },
     "execution_count": 2,
     "metadata": {},
     "output_type": "execute_result"
    }
   ],
   "source": [
    "command ='ffmpeg -i aiml.mkv -ab 160k -ar 44100 -vn aiml.wav'   #FFmpeg --> transcoding, streaming etc .. (.mkv, .flv, and .mov.)\n",
    "subprocess.call(command, shell=True)"
   ]
  },
  {
   "cell_type": "code",
   "execution_count": 3,
   "metadata": {},
   "outputs": [],
   "source": [
    "#setup STT services\n",
    "apikey = 'pFtpG-uagKwRJLhP4TosJMw14-LIWq9Ok9fzPQZKAEE9'\n",
    "url = 'https://api.au-syd.speech-to-text.watson.cloud.ibm.com/instances/e1018c30-9f10-47d9-8f40-f048c60d0376'"
   ]
  },
  {
   "cell_type": "code",
   "execution_count": 4,
   "metadata": {},
   "outputs": [],
   "source": [
    "# Setup service\n",
    "authenticator = IAMAuthenticator(apikey)\n",
    "stt = SpeechToTextV1(authenticator=authenticator)\n",
    "stt.set_service_url(url)"
   ]
  },
  {
   "cell_type": "code",
   "execution_count": 6,
   "metadata": {},
   "outputs": [],
   "source": [
    "#open audio source and convert \n",
    "with open('aiml.wav', 'rb') as f:\n",
    "    res = stt.recognize(audio=f, content_type='audio/wav', model='en-AU_NarrowbandModel').get_result()"
   ]
  },
  {
   "cell_type": "code",
   "execution_count": 7,
   "metadata": {},
   "outputs": [
    {
     "data": {
      "text/plain": [
       "{'result_index': 0,\n",
       " 'results': [{'final': True,\n",
       "   'alternatives': [{'transcript': 'ever wondered about the differences between ',\n",
       "     'confidence': 0.93}]},\n",
       "  {'final': True,\n",
       "   'alternatives': [{'transcript': \"M. L. deal and DS well we're about to explore all of those today stated so let's dive right into it so AI versus ML this is deal with the DS a whole bunch of judging but within a clarify all of that right up so it took things often take a look at A. R. \",\n",
       "     'confidence': 0.74}]},\n",
       "  {'final': True,\n",
       "   'alternatives': [{'transcript': 'so A. I. is really to do with the ability of computers and machines to perform tasks without explicitly programming them otherwise known as the ability for computers and machine to think by themselves so we typically break out into two categories these are generally I know a ',\n",
       "     'confidence': 0.94}]},\n",
       "  {'final': True,\n",
       "   'alternatives': [{'transcript': 'generally I typically refers to the ability for a computer a machine to be able to handle a wide variety of type I think humans have the ability to do a whole heap of stuff we can see we can speak we can here we can read we can drive we can do a whole range of things the ability for AI and machine to be able to do a broad range of tasks similar to human is what we typically referred to as general ',\n",
       "     'confidence': 0.88}]},\n",
       "  {'final': True,\n",
       "   'alternatives': [{'transcript': \"now with still a little bit of a while away from true general A. either that's not to say it's not to come now that narrow A. I. on the other hand is the ability for a machine to handle a really simple or really narrow range of time so that could possibly be the ability to translate speech to text or to classify images as having different categories or the ability to predict how prices for example all of these are examples of narrow A. I. so I'm going to be painting a bunch of visual imagery to help you remember some of these topics so the first one in terms of breaking out general and narrow AI or the ability to remember general an hour is just picture a really narrow really skinny general in your mind so that way you know that there's two different types of A. R. general America now onto the next up machine learning so take a look at being broken up into general and narrow but how does machine learning fit into this well machine learning is the application of narrow a item specific type now when we typically talk about machine learning we often compared to traditional programme so in traditional programming with applied data plus rules or conditional logic and get answers now in machine learning on the other hand we provide data plus historical answers to get rules we can then pass new data to get new answers so this is a bit of a change in the paradigm of how computer scientists and machine learning engineers are building programmes these days so what are some typical machine learning type well we probably break out machine learning into three categories either supervised learning unsupervised learning and semi supervised learning so let's take a look at supervised learning first so supervisor can be broadly broken out into two categories either classification and regression classification is also do with gripping things into categories all labels so they had a big data set on all the different types of pizzas you'd like and whether or not you'd like them yes or no you could take that data and pass it through to a classification algorithm to help it learn which types of pizzas you like so then when you pass through a new list of ingredients it \",\n",
       "     'confidence': 0.86}]},\n",
       "  {'final': True,\n",
       "   'alternatives': [{'transcript': \"it would be able to predict yes you would like that pizza or note you might not regression on the other hand is all to do with predicting continuous variable some great examples of regression our sales forecasting and predicting prices of houses so that encapsulate supervised learning now what about unsupervised learning well there's two key things to think about when you think of unsupervised learning visa really clustering so the ability to group people together so I'm so you wanted to group together high performing and low performing and media performing employee or high value low value medium value customers or a whole bunch of other different types of data but really it's all to do with grouping things together now dimensionality reduction on the other hand is all to do with chain dancing the features that you've got within a machine learning model so a lot of the time you might start out with a huge data set with a lot of column and you're not really sure which of those columns are important for you machine learning model dimensionality reduction helps you reduce the number of columns that you've got so that you can really focus on the important one now in order to remember supervised learning and unsupervised learning I'd suggest you remember this initial isn't Christopher robin courted up so that way you remember classification regression clustering and dimensionality reduction so that takes care of supervised and unsupervised learning board about semi supervised learning well this is where reinforcement learning comes in now reinforcement learning has four key things these are an agent an action environment and the reward it's similar to how you might choose to condition a dog a dog might do something right and you might reward it with a piece of food in a similar way we train reinforcement learning models to act in a correct way in a given environment in order to learn appropriate actions given that specific environment now the best way to remember reinforcement learning techniques is remember area fifty one so that way you remember agent reward environment and actions okay so that takes care of machine learning now to tell a little bit deeper and get into deep plan so \",\n",
       "     'confidence': 0.9}]},\n",
       "  {'final': True,\n",
       "   'alternatives': [{'transcript': \"%HESITATION deep learning is a subset of machine learning and really it's to do with performing machine learning tasks using deep neural networks now did your networks and networks that have multiple hidden late so if you've ever seen a diagram that looks sort of like this this is a representation of a neural network but specifically in this case this is a deep neural network because it had multiple hidden layers now the best way to remember deep learning is to remember that deep learning is just like an onion has multiple a little bit like Shrek now that's what it covers AI ML and deal what about data phone well they decide is the practise that sit over \",\n",
       "     'confidence': 0.83}]},\n",
       "  {'final': True,\n",
       "   'alternatives': [{'transcript': \"L. India it basically is the art of extracting knowledge insight and meaning from data the best way to remember the key components of data science I don't look at the cristiana framework so the Crispian framework stands for the cross industry standard process for data mining and basically it's a framework to help you along your way to producing really good data science project now there's sixty steps in the date and time to process visa business understanding so understanding the business that you're working with and the environment in which they operate to data understanding so understanding the data that you've got on hand so whether or not you've got missing values visualising that data and taking a look at some summary statistics with then got date of preparation so this is all to do with getting our data ready for modelling in this step we might perform some feature engineering increasing your columns we might feel into missing values and a whole bunch of other data preparation steps like for example splitting a data into training and testing next we've got my favourite which is model this is all to do with training your machine learning algorithms to perform well on a specific type once we trained our models in that modelling step we get on to the evaluation given that we've trained our model we want to make sure that it's going to work well once we deployed into the real world this is what the evaluation step is all about in this step we try to check whether or not a model is likely to perform while using specific evaluation metrics now once we've gone through all of that the last step is to go and deployed a model in order to deploy a model we could release it as a rest API containerized it up or save it as a wondering so we can go and use it elsewhere now a great way to remember Christie and this rumour Barry drove directly to the medical emergency department that way you remember business understanding data understanding data preparation modelling evaluation and deployment now I've talked a lot about period but whether the pipe and packages that you typically see used fit into this framework well in terms of data sites number part painted in matte properly \",\n",
       "     'confidence': 0.86}]},\n",
       "  {'final': True,\n",
       "   'alternatives': [{'transcript': \"probably going to be the most important packages that you see floating around number and panders help you traverse and explore your data and really work with your data in terms of performing manipulation and data preparation maps what leave in seaborne help you visualise that data and explore it even further now the most important likely in terms of machine learning is probably psychic learnt so so I could learn been around for quite some time and gives you a whole bunch of really powerful algorithms in utilities to help use them to train your machine learning models now declining is becoming increasingly popular and there's a large number of libraries that can help you perform deep learning some of which which are notable attempts of load carriers pi torch and piano just a name a few and that about wraps up versus an old versus deal versus dear thanks so much for choosing in guys hopefully you found this video useful if you did be sure to give it a thumbs up and hit them strive until next time T. \",\n",
       "     'confidence': 0.83}]}]}"
      ]
     },
     "execution_count": 7,
     "metadata": {},
     "output_type": "execute_result"
    }
   ],
   "source": [
    "res"
   ]
  },
  {
   "cell_type": "code",
   "execution_count": 18,
   "metadata": {},
   "outputs": [
    {
     "data": {
      "text/plain": [
       "dict_keys(['result_index', 'results'])"
      ]
     },
     "execution_count": 18,
     "metadata": {},
     "output_type": "execute_result"
    }
   ],
   "source": [
    "res.keys()"
   ]
  },
  {
   "cell_type": "code",
   "execution_count": 8,
   "metadata": {},
   "outputs": [
    {
     "data": {
      "text/plain": [
       "9"
      ]
     },
     "execution_count": 8,
     "metadata": {},
     "output_type": "execute_result"
    }
   ],
   "source": [
    "len(res['results'])"
   ]
  },
  {
   "cell_type": "code",
   "execution_count": 9,
   "metadata": {},
   "outputs": [],
   "source": [
    "text = [result['alternatives'][0]['transcript'].rstrip() + '.\\n' for result in res['results']]"
   ]
  },
  {
   "cell_type": "code",
   "execution_count": 10,
   "metadata": {},
   "outputs": [],
   "source": [
    "text = [para[0].title() + para[1:] for para in text]\n",
    "transcript = ''.join(text)\n",
    "with open('aiml_converted.txt', 'w') as out:\n",
    "    out.writelines(transcript)"
   ]
  },
  {
   "cell_type": "code",
   "execution_count": 12,
   "metadata": {},
   "outputs": [
    {
     "data": {
      "text/plain": [
       "['Ever wondered about the differences between.\\n',\n",
       " \"M. L. deal and DS well we're about to explore all of those today stated so let's dive right into it so AI versus ML this is deal with the DS a whole bunch of judging but within a clarify all of that right up so it took things often take a look at A. R..\\n\",\n",
       " 'So A. I. is really to do with the ability of computers and machines to perform tasks without explicitly programming them otherwise known as the ability for computers and machine to think by themselves so we typically break out into two categories these are generally I know a.\\n',\n",
       " 'Generally I typically refers to the ability for a computer a machine to be able to handle a wide variety of type I think humans have the ability to do a whole heap of stuff we can see we can speak we can here we can read we can drive we can do a whole range of things the ability for AI and machine to be able to do a broad range of tasks similar to human is what we typically referred to as general.\\n',\n",
       " \"Now with still a little bit of a while away from true general A. either that's not to say it's not to come now that narrow A. I. on the other hand is the ability for a machine to handle a really simple or really narrow range of time so that could possibly be the ability to translate speech to text or to classify images as having different categories or the ability to predict how prices for example all of these are examples of narrow A. I. so I'm going to be painting a bunch of visual imagery to help you remember some of these topics so the first one in terms of breaking out general and narrow AI or the ability to remember general an hour is just picture a really narrow really skinny general in your mind so that way you know that there's two different types of A. R. general America now onto the next up machine learning so take a look at being broken up into general and narrow but how does machine learning fit into this well machine learning is the application of narrow a item specific type now when we typically talk about machine learning we often compared to traditional programme so in traditional programming with applied data plus rules or conditional logic and get answers now in machine learning on the other hand we provide data plus historical answers to get rules we can then pass new data to get new answers so this is a bit of a change in the paradigm of how computer scientists and machine learning engineers are building programmes these days so what are some typical machine learning type well we probably break out machine learning into three categories either supervised learning unsupervised learning and semi supervised learning so let's take a look at supervised learning first so supervisor can be broadly broken out into two categories either classification and regression classification is also do with gripping things into categories all labels so they had a big data set on all the different types of pizzas you'd like and whether or not you'd like them yes or no you could take that data and pass it through to a classification algorithm to help it learn which types of pizzas you like so then when you pass through a new list of ingredients it.\\n\",\n",
       " \"It would be able to predict yes you would like that pizza or note you might not regression on the other hand is all to do with predicting continuous variable some great examples of regression our sales forecasting and predicting prices of houses so that encapsulate supervised learning now what about unsupervised learning well there's two key things to think about when you think of unsupervised learning visa really clustering so the ability to group people together so I'm so you wanted to group together high performing and low performing and media performing employee or high value low value medium value customers or a whole bunch of other different types of data but really it's all to do with grouping things together now dimensionality reduction on the other hand is all to do with chain dancing the features that you've got within a machine learning model so a lot of the time you might start out with a huge data set with a lot of column and you're not really sure which of those columns are important for you machine learning model dimensionality reduction helps you reduce the number of columns that you've got so that you can really focus on the important one now in order to remember supervised learning and unsupervised learning I'd suggest you remember this initial isn't Christopher robin courted up so that way you remember classification regression clustering and dimensionality reduction so that takes care of supervised and unsupervised learning board about semi supervised learning well this is where reinforcement learning comes in now reinforcement learning has four key things these are an agent an action environment and the reward it's similar to how you might choose to condition a dog a dog might do something right and you might reward it with a piece of food in a similar way we train reinforcement learning models to act in a correct way in a given environment in order to learn appropriate actions given that specific environment now the best way to remember reinforcement learning techniques is remember area fifty one so that way you remember agent reward environment and actions okay so that takes care of machine learning now to tell a little bit deeper and get into deep plan so.\\n\",\n",
       " \"%HESITATION deep learning is a subset of machine learning and really it's to do with performing machine learning tasks using deep neural networks now did your networks and networks that have multiple hidden late so if you've ever seen a diagram that looks sort of like this this is a representation of a neural network but specifically in this case this is a deep neural network because it had multiple hidden layers now the best way to remember deep learning is to remember that deep learning is just like an onion has multiple a little bit like Shrek now that's what it covers AI ML and deal what about data phone well they decide is the practise that sit over.\\n\",\n",
       " \"L. India it basically is the art of extracting knowledge insight and meaning from data the best way to remember the key components of data science I don't look at the cristiana framework so the Crispian framework stands for the cross industry standard process for data mining and basically it's a framework to help you along your way to producing really good data science project now there's sixty steps in the date and time to process visa business understanding so understanding the business that you're working with and the environment in which they operate to data understanding so understanding the data that you've got on hand so whether or not you've got missing values visualising that data and taking a look at some summary statistics with then got date of preparation so this is all to do with getting our data ready for modelling in this step we might perform some feature engineering increasing your columns we might feel into missing values and a whole bunch of other data preparation steps like for example splitting a data into training and testing next we've got my favourite which is model this is all to do with training your machine learning algorithms to perform well on a specific type once we trained our models in that modelling step we get on to the evaluation given that we've trained our model we want to make sure that it's going to work well once we deployed into the real world this is what the evaluation step is all about in this step we try to check whether or not a model is likely to perform while using specific evaluation metrics now once we've gone through all of that the last step is to go and deployed a model in order to deploy a model we could release it as a rest API containerized it up or save it as a wondering so we can go and use it elsewhere now a great way to remember Christie and this rumour Barry drove directly to the medical emergency department that way you remember business understanding data understanding data preparation modelling evaluation and deployment now I've talked a lot about period but whether the pipe and packages that you typically see used fit into this framework well in terms of data sites number part painted in matte properly.\\n\",\n",
       " \"Probably going to be the most important packages that you see floating around number and panders help you traverse and explore your data and really work with your data in terms of performing manipulation and data preparation maps what leave in seaborne help you visualise that data and explore it even further now the most important likely in terms of machine learning is probably psychic learnt so so I could learn been around for quite some time and gives you a whole bunch of really powerful algorithms in utilities to help use them to train your machine learning models now declining is becoming increasingly popular and there's a large number of libraries that can help you perform deep learning some of which which are notable attempts of load carriers pi torch and piano just a name a few and that about wraps up versus an old versus deal versus dear thanks so much for choosing in guys hopefully you found this video useful if you did be sure to give it a thumbs up and hit them strive until next time T..\\n\"]"
      ]
     },
     "execution_count": 12,
     "metadata": {},
     "output_type": "execute_result"
    }
   ],
   "source": [
    "text"
   ]
  },
  {
   "cell_type": "code",
   "execution_count": 11,
   "metadata": {},
   "outputs": [
    {
     "data": {
      "text/plain": [
       "\"Ever wondered about the differences between.\\nM. L. deal and DS well we're about to explore all of those today stated so let's dive right into it so AI versus ML this is deal with the DS a whole bunch of judging but within a clarify all of that right up so it took things often take a look at A. R..\\nSo A. I. is really to do with the ability of computers and machines to perform tasks without explicitly programming them otherwise known as the ability for computers and machine to think by themselves so we typically break out into two categories these are generally I know a.\\nGenerally I typically refers to the ability for a computer a machine to be able to handle a wide variety of type I think humans have the ability to do a whole heap of stuff we can see we can speak we can here we can read we can drive we can do a whole range of things the ability for AI and machine to be able to do a broad range of tasks similar to human is what we typically referred to as general.\\nNow with still a little bit of a while away from true general A. either that's not to say it's not to come now that narrow A. I. on the other hand is the ability for a machine to handle a really simple or really narrow range of time so that could possibly be the ability to translate speech to text or to classify images as having different categories or the ability to predict how prices for example all of these are examples of narrow A. I. so I'm going to be painting a bunch of visual imagery to help you remember some of these topics so the first one in terms of breaking out general and narrow AI or the ability to remember general an hour is just picture a really narrow really skinny general in your mind so that way you know that there's two different types of A. R. general America now onto the next up machine learning so take a look at being broken up into general and narrow but how does machine learning fit into this well machine learning is the application of narrow a item specific type now when we typically talk about machine learning we often compared to traditional programme so in traditional programming with applied data plus rules or conditional logic and get answers now in machine learning on the other hand we provide data plus historical answers to get rules we can then pass new data to get new answers so this is a bit of a change in the paradigm of how computer scientists and machine learning engineers are building programmes these days so what are some typical machine learning type well we probably break out machine learning into three categories either supervised learning unsupervised learning and semi supervised learning so let's take a look at supervised learning first so supervisor can be broadly broken out into two categories either classification and regression classification is also do with gripping things into categories all labels so they had a big data set on all the different types of pizzas you'd like and whether or not you'd like them yes or no you could take that data and pass it through to a classification algorithm to help it learn which types of pizzas you like so then when you pass through a new list of ingredients it.\\nIt would be able to predict yes you would like that pizza or note you might not regression on the other hand is all to do with predicting continuous variable some great examples of regression our sales forecasting and predicting prices of houses so that encapsulate supervised learning now what about unsupervised learning well there's two key things to think about when you think of unsupervised learning visa really clustering so the ability to group people together so I'm so you wanted to group together high performing and low performing and media performing employee or high value low value medium value customers or a whole bunch of other different types of data but really it's all to do with grouping things together now dimensionality reduction on the other hand is all to do with chain dancing the features that you've got within a machine learning model so a lot of the time you might start out with a huge data set with a lot of column and you're not really sure which of those columns are important for you machine learning model dimensionality reduction helps you reduce the number of columns that you've got so that you can really focus on the important one now in order to remember supervised learning and unsupervised learning I'd suggest you remember this initial isn't Christopher robin courted up so that way you remember classification regression clustering and dimensionality reduction so that takes care of supervised and unsupervised learning board about semi supervised learning well this is where reinforcement learning comes in now reinforcement learning has four key things these are an agent an action environment and the reward it's similar to how you might choose to condition a dog a dog might do something right and you might reward it with a piece of food in a similar way we train reinforcement learning models to act in a correct way in a given environment in order to learn appropriate actions given that specific environment now the best way to remember reinforcement learning techniques is remember area fifty one so that way you remember agent reward environment and actions okay so that takes care of machine learning now to tell a little bit deeper and get into deep plan so.\\n%HESITATION deep learning is a subset of machine learning and really it's to do with performing machine learning tasks using deep neural networks now did your networks and networks that have multiple hidden late so if you've ever seen a diagram that looks sort of like this this is a representation of a neural network but specifically in this case this is a deep neural network because it had multiple hidden layers now the best way to remember deep learning is to remember that deep learning is just like an onion has multiple a little bit like Shrek now that's what it covers AI ML and deal what about data phone well they decide is the practise that sit over.\\nL. India it basically is the art of extracting knowledge insight and meaning from data the best way to remember the key components of data science I don't look at the cristiana framework so the Crispian framework stands for the cross industry standard process for data mining and basically it's a framework to help you along your way to producing really good data science project now there's sixty steps in the date and time to process visa business understanding so understanding the business that you're working with and the environment in which they operate to data understanding so understanding the data that you've got on hand so whether or not you've got missing values visualising that data and taking a look at some summary statistics with then got date of preparation so this is all to do with getting our data ready for modelling in this step we might perform some feature engineering increasing your columns we might feel into missing values and a whole bunch of other data preparation steps like for example splitting a data into training and testing next we've got my favourite which is model this is all to do with training your machine learning algorithms to perform well on a specific type once we trained our models in that modelling step we get on to the evaluation given that we've trained our model we want to make sure that it's going to work well once we deployed into the real world this is what the evaluation step is all about in this step we try to check whether or not a model is likely to perform while using specific evaluation metrics now once we've gone through all of that the last step is to go and deployed a model in order to deploy a model we could release it as a rest API containerized it up or save it as a wondering so we can go and use it elsewhere now a great way to remember Christie and this rumour Barry drove directly to the medical emergency department that way you remember business understanding data understanding data preparation modelling evaluation and deployment now I've talked a lot about period but whether the pipe and packages that you typically see used fit into this framework well in terms of data sites number part painted in matte properly.\\nProbably going to be the most important packages that you see floating around number and panders help you traverse and explore your data and really work with your data in terms of performing manipulation and data preparation maps what leave in seaborne help you visualise that data and explore it even further now the most important likely in terms of machine learning is probably psychic learnt so so I could learn been around for quite some time and gives you a whole bunch of really powerful algorithms in utilities to help use them to train your machine learning models now declining is becoming increasingly popular and there's a large number of libraries that can help you perform deep learning some of which which are notable attempts of load carriers pi torch and piano just a name a few and that about wraps up versus an old versus deal versus dear thanks so much for choosing in guys hopefully you found this video useful if you did be sure to give it a thumbs up and hit them strive until next time T..\\n\""
      ]
     },
     "execution_count": 11,
     "metadata": {},
     "output_type": "execute_result"
    }
   ],
   "source": [
    "transcript"
   ]
  },
  {
   "cell_type": "code",
   "execution_count": 13,
   "metadata": {},
   "outputs": [
    {
     "data": {
      "text/plain": [
       "9"
      ]
     },
     "execution_count": 13,
     "metadata": {},
     "output_type": "execute_result"
    }
   ],
   "source": [
    "len(text)"
   ]
  },
  {
   "cell_type": "code",
   "execution_count": 14,
   "metadata": {},
   "outputs": [],
   "source": [
    "text = [para[0].title() + para[1:] for para in text]\n",
    "transcript = ''.join(text)\n",
    "with open('aiml_converted.txt','w') as out:\n",
    "    out.writelines(transcript)"
   ]
  },
  {
   "cell_type": "code",
   "execution_count": null,
   "metadata": {},
   "outputs": [],
   "source": [
    "import nltk\n",
    "nltk.download('stopwords')"
   ]
  }
 ],
 "metadata": {
  "kernelspec": {
   "display_name": "Python 3",
   "language": "python",
   "name": "python3"
  },
  "language_info": {
   "codemirror_mode": {
    "name": "ipython",
    "version": 3
   },
   "file_extension": ".py",
   "mimetype": "text/x-python",
   "name": "python",
   "nbconvert_exporter": "python",
   "pygments_lexer": "ipython3",
   "version": "3.8.5"
  }
 },
 "nbformat": 4,
 "nbformat_minor": 4
}
